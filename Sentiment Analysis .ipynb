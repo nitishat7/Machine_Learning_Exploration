{
 "cells": [
  {
   "cell_type": "code",
   "execution_count": 2,
   "id": "6db32039",
   "metadata": {},
   "outputs": [],
   "source": [
    "# Import the necessary libraries\n",
    "import nltk\n",
    "from nltk.sentiment.vader import SentimentIntensityAnalyzer"
   ]
  },
  {
   "cell_type": "markdown",
   "id": "85ab3179",
   "metadata": {},
   "source": [
    "#### Sentiment Analysis Using Sentiment Analyzer "
   ]
  },
  {
   "cell_type": "code",
   "execution_count": 3,
   "id": "81908fad",
   "metadata": {},
   "outputs": [
    {
     "name": "stdout",
     "output_type": "stream",
     "text": [
      "Text: I am confused on this product! It's somehow tolerable\n",
      "Sentiment: Negative\n",
      "Positive Score: 0.00\n",
      "Negative Score: 0.27\n",
      "Neutral Score: 0.73\n",
      "Compound Score: -0.38\n"
     ]
    }
   ],
   "source": [
    "# Download VADER lexicon \n",
    "# nltk.download('vader_lexicon')\n",
    "\n",
    "# Initialize the VADER sentiment analyzer\n",
    "sia = SentimentIntensityAnalyzer()\n",
    "\n",
    "# Sample text \n",
    "# text = \"I love this product! It's amazing. It's the best one\"\n",
    "# text = \"I don't love this product! It's pathetic\"\n",
    "text = \"I am confused on this product! It's somehow tolerable\"\n",
    "\n",
    "\n",
    "# sentiment scores\n",
    "sentiment_scores = sia.polarity_scores(text)\n",
    "\n",
    "# Interpret the sentiment scores\n",
    "if sentiment_scores['compound'] >= 0.05:\n",
    "    sentiment = 'Positive'\n",
    "elif sentiment_scores['compound'] <= -0.05:\n",
    "    sentiment = 'Negative'\n",
    "else:\n",
    "    sentiment = 'Neutral'\n",
    "\n",
    "# Print the sentiment and scores\n",
    "print(f\"Text: {text}\")\n",
    "print(f\"Sentiment: {sentiment}\")\n",
    "print(f\"Positive Score: {sentiment_scores['pos']:.2f}\")\n",
    "print(f\"Negative Score: {sentiment_scores['neg']:.2f}\")\n",
    "print(f\"Neutral Score: {sentiment_scores['neu']:.2f}\")\n",
    "print(f\"Compound Score: {sentiment_scores['compound']:.2f}\")\n"
   ]
  },
  {
   "cell_type": "code",
   "execution_count": 4,
   "id": "ac4ef347",
   "metadata": {},
   "outputs": [
    {
     "data": {
      "text/plain": [
       "{'neg': 0.27, 'neu': 0.73, 'pos': 0.0, 'compound': -0.3802}"
      ]
     },
     "execution_count": 4,
     "metadata": {},
     "output_type": "execute_result"
    }
   ],
   "source": [
    "sentiment_scores"
   ]
  },
  {
   "cell_type": "code",
   "execution_count": null,
   "id": "a249d822",
   "metadata": {},
   "outputs": [],
   "source": []
  },
  {
   "cell_type": "code",
   "execution_count": 3,
   "id": "653a2af2",
   "metadata": {},
   "outputs": [
    {
     "name": "stdout",
     "output_type": "stream",
     "text": [
      "0.0\n",
      "Text: This is nlp, but I dont like it\n",
      "Sentiment: Neutral\n",
      "Polarity: 0.00\n"
     ]
    }
   ],
   "source": [
    "# Import the necessary library\n",
    "from textblob import TextBlob\n",
    "\n",
    "# Sample text for sentiment analysis\n",
    "text = \"This is nlp, but I dont like it\"\n",
    "# Create a TextBlob object\n",
    "blob = TextBlob(text)\n",
    "\n",
    "# Get the sentiment polarity\n",
    "sentiment_polarity = blob.sentiment.polarity\n",
    "print(sentiment_polarity)\n",
    "# Interpret the sentiment polarity\n",
    "if sentiment_polarity > 0:\n",
    "    sentiment = 'Positive'\n",
    "elif sentiment_polarity < 0:\n",
    "    sentiment = 'Negative'\n",
    "else:\n",
    "    sentiment = 'Neutral'\n",
    "\n",
    "# Print the sentiment and polarity\n",
    "print(f\"Text: {text}\")\n",
    "print(f\"Sentiment: {sentiment}\")\n",
    "print(f\"Polarity: {sentiment_polarity:.2f}\")\n"
   ]
  },
  {
   "cell_type": "code",
   "execution_count": 8,
   "id": "f55a9b2e",
   "metadata": {},
   "outputs": [
    {
     "name": "stdout",
     "output_type": "stream",
     "text": [
      "Collecting textblob\n",
      "  Downloading textblob-0.18.0.post0-py3-none-any.whl (626 kB)\n",
      "     -------------------------------------- 626.3/626.3 kB 2.5 MB/s eta 0:00:00\n",
      "Collecting nltk>=3.8\n",
      "  Downloading nltk-3.8.1-py3-none-any.whl (1.5 MB)\n",
      "     ---------------------------------------- 1.5/1.5 MB 13.8 MB/s eta 0:00:00\n",
      "Requirement already satisfied: regex>=2021.8.3 in e:\\anaconda\\lib\\site-packages (from nltk>=3.8->textblob) (2022.7.9)\n",
      "Requirement already satisfied: joblib in e:\\anaconda\\lib\\site-packages (from nltk>=3.8->textblob) (1.1.1)\n",
      "Requirement already satisfied: click in e:\\anaconda\\lib\\site-packages (from nltk>=3.8->textblob) (8.0.4)\n",
      "Requirement already satisfied: tqdm in e:\\anaconda\\lib\\site-packages (from nltk>=3.8->textblob) (4.64.1)\n",
      "Requirement already satisfied: colorama in e:\\anaconda\\lib\\site-packages (from click->nltk>=3.8->textblob) (0.4.6)\n",
      "Installing collected packages: nltk, textblob\n",
      "  Attempting uninstall: nltk\n",
      "    Found existing installation: nltk 3.7\n",
      "    Uninstalling nltk-3.7:\n",
      "      Successfully uninstalled nltk-3.7\n",
      "Successfully installed nltk-3.8.1 textblob-0.18.0.post0\n",
      "Note: you may need to restart the kernel to use updated packages.\n"
     ]
    }
   ],
   "source": [
    "pip install -U textblob"
   ]
  },
  {
   "cell_type": "code",
   "execution_count": null,
   "id": "272c4e43",
   "metadata": {},
   "outputs": [],
   "source": []
  }
 ],
 "metadata": {
  "kernelspec": {
   "display_name": "Python 3 (ipykernel)",
   "language": "python",
   "name": "python3"
  },
  "language_info": {
   "codemirror_mode": {
    "name": "ipython",
    "version": 3
   },
   "file_extension": ".py",
   "mimetype": "text/x-python",
   "name": "python",
   "nbconvert_exporter": "python",
   "pygments_lexer": "ipython3",
   "version": "3.10.9"
  }
 },
 "nbformat": 4,
 "nbformat_minor": 5
}
